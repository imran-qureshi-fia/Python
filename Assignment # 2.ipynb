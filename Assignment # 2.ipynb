{
 "cells": [
  {
   "cell_type": "markdown",
   "metadata": {},
   "source": [
    "# Task 1"
   ]
  },
  {
   "cell_type": "markdown",
   "metadata": {},
   "source": [
    "Case 1:"
   ]
  },
  {
   "cell_type": "code",
   "execution_count": 16,
   "metadata": {},
   "outputs": [
    {
     "name": "stdout",
     "output_type": "stream",
     "text": [
      "Enter key:12\n",
      "Enter Value:34\n"
     ]
    }
   ],
   "source": [
    "key = int(input(\"Enter key:\"))\n",
    "Value = input(\"Enter Value:\")"
   ]
  },
  {
   "cell_type": "code",
   "execution_count": 17,
   "metadata": {},
   "outputs": [],
   "source": [
    "data = {}"
   ]
  },
  {
   "cell_type": "code",
   "execution_count": 18,
   "metadata": {},
   "outputs": [],
   "source": [
    "data[key] = Value"
   ]
  },
  {
   "cell_type": "code",
   "execution_count": 19,
   "metadata": {},
   "outputs": [],
   "source": [
    "data.update()"
   ]
  },
  {
   "cell_type": "code",
   "execution_count": 20,
   "metadata": {},
   "outputs": [
    {
     "name": "stdout",
     "output_type": "stream",
     "text": [
      "{12: '34'}\n"
     ]
    }
   ],
   "source": [
    "print (data)"
   ]
  },
  {
   "cell_type": "markdown",
   "metadata": {},
   "source": [
    "Case 2:"
   ]
  },
  {
   "cell_type": "code",
   "execution_count": 11,
   "metadata": {},
   "outputs": [
    {
     "name": "stdout",
     "output_type": "stream",
     "text": [
      "Enter key:34\n",
      "Enter Value:29\n"
     ]
    }
   ],
   "source": [
    "key = int(input(\"Enter key:\"))\n",
    "Value = int(input(\"Enter Value:\"))"
   ]
  },
  {
   "cell_type": "code",
   "execution_count": 12,
   "metadata": {},
   "outputs": [],
   "source": [
    "data2 = {}"
   ]
  },
  {
   "cell_type": "code",
   "execution_count": 13,
   "metadata": {},
   "outputs": [],
   "source": [
    "data2[key] = Value"
   ]
  },
  {
   "cell_type": "code",
   "execution_count": 14,
   "metadata": {},
   "outputs": [],
   "source": [
    "data2.update()"
   ]
  },
  {
   "cell_type": "code",
   "execution_count": 15,
   "metadata": {},
   "outputs": [
    {
     "name": "stdout",
     "output_type": "stream",
     "text": [
      "{34: 29}\n"
     ]
    }
   ],
   "source": [
    "print(data2)"
   ]
  },
  {
   "cell_type": "markdown",
   "metadata": {},
   "source": [
    "# Task 2"
   ]
  },
  {
   "cell_type": "code",
   "execution_count": 23,
   "metadata": {},
   "outputs": [],
   "source": [
    "data1={}\n",
    "data2={}"
   ]
  },
  {
   "cell_type": "code",
   "execution_count": 28,
   "metadata": {},
   "outputs": [],
   "source": [
    "data1={\"A\":1}"
   ]
  },
  {
   "cell_type": "code",
   "execution_count": 29,
   "metadata": {},
   "outputs": [],
   "source": [
    "data2 = {\"C\":3, \"B\": 2}"
   ]
  },
  {
   "cell_type": "code",
   "execution_count": 30,
   "metadata": {},
   "outputs": [],
   "source": [
    "data1.update(data2)"
   ]
  },
  {
   "cell_type": "code",
   "execution_count": 31,
   "metadata": {},
   "outputs": [
    {
     "name": "stdout",
     "output_type": "stream",
     "text": [
      "{'A': 1, 'C': 3, 'B': 2}\n"
     ]
    }
   ],
   "source": [
    "print (data1)"
   ]
  },
  {
   "cell_type": "markdown",
   "metadata": {},
   "source": [
    "# Task 3"
   ]
  },
  {
   "cell_type": "code",
   "execution_count": 32,
   "metadata": {},
   "outputs": [],
   "source": [
    "data={}"
   ]
  },
  {
   "cell_type": "code",
   "execution_count": 33,
   "metadata": {},
   "outputs": [],
   "source": [
    "data = {\n",
    "    'A' : 2,\n",
    "    'C' : 4,\n",
    "    'D' : 1,\n",
    "    'B' : 3,\n",
    "    'E' : 5\n",
    "}"
   ]
  },
  {
   "cell_type": "code",
   "execution_count": 34,
   "metadata": {},
   "outputs": [
    {
     "name": "stdout",
     "output_type": "stream",
     "text": [
      "{'A': 2, 'C': 4, 'D': 1, 'B': 3, 'E': 5}\n"
     ]
    }
   ],
   "source": [
    "print (data)"
   ]
  },
  {
   "cell_type": "code",
   "execution_count": 36,
   "metadata": {},
   "outputs": [
    {
     "name": "stdout",
     "output_type": "stream",
     "text": [
      "Enter key to check: A\n",
      "key is present and value of the key is:  2\n"
     ]
    }
   ],
   "source": [
    "key = input(\"Enter key to check: \")\n",
    "if key in data.keys():\n",
    "    print(\"key is present and value of the key is: \", data[key])\n",
    "else:\n",
    "    print(\"Key isn't present !\")"
   ]
  },
  {
   "cell_type": "code",
   "execution_count": 37,
   "metadata": {},
   "outputs": [
    {
     "name": "stdout",
     "output_type": "stream",
     "text": [
      "Enter key to check: F\n",
      "Key isn't present !\n"
     ]
    }
   ],
   "source": [
    "key = input(\"Enter key to check: \")\n",
    "if key in data.keys():\n",
    "    print(\"key is present and value of the key is: \", data[key])\n",
    "else:\n",
    "    print(\"Key isn't present !\")"
   ]
  },
  {
   "cell_type": "markdown",
   "metadata": {},
   "source": [
    "# Task 4"
   ]
  },
  {
   "cell_type": "code",
   "execution_count": 41,
   "metadata": {},
   "outputs": [],
   "source": [
    "data = {}"
   ]
  },
  {
   "cell_type": "code",
   "execution_count": 42,
   "metadata": {},
   "outputs": [
    {
     "name": "stdout",
     "output_type": "stream",
     "text": [
      "Enter the number:9\n",
      "{1: 1, 2: 4, 3: 9, 4: 16, 5: 25, 6: 36, 7: 49, 8: 64, 9: 81}\n"
     ]
    }
   ],
   "source": [
    "n = int(input(\"Enter the number:\"))\n",
    "n +=1\n",
    "for i in range (1, int(n)):\n",
    "    data[i] = i*i\n",
    "print (data)"
   ]
  },
  {
   "cell_type": "markdown",
   "metadata": {},
   "source": [
    "# Task 5"
   ]
  },
  {
   "cell_type": "code",
   "execution_count": 62,
   "metadata": {},
   "outputs": [],
   "source": [
    "data = {\n",
    "    'A' : 12,\n",
    "    'C' : 68,\n",
    "    'D' : 17,\n",
    "    'B' : 13,\n",
    "    'E' : 15\n",
    "}"
   ]
  },
  {
   "cell_type": "code",
   "execution_count": 63,
   "metadata": {},
   "outputs": [
    {
     "name": "stdout",
     "output_type": "stream",
     "text": [
      "Total sum of values in the dictonary: 125\n"
     ]
    }
   ],
   "source": [
    "data2 = sum(data.values())\n",
    "print (\"Total sum of values in the dictonary:\" ,data2)"
   ]
  },
  {
   "cell_type": "markdown",
   "metadata": {},
   "source": [
    "# Task 6"
   ]
  },
  {
   "cell_type": "code",
   "execution_count": 147,
   "metadata": {},
   "outputs": [],
   "source": [
    "data = {\n",
    "    'A' : 23,\n",
    "    'C' : 25,\n",
    "    'D' : 14,\n",
    "    'B' : 32,\n",
    "    'E' : 12\n",
    "}"
   ]
  },
  {
   "cell_type": "code",
   "execution_count": 136,
   "metadata": {},
   "outputs": [
    {
     "name": "stdout",
     "output_type": "stream",
     "text": [
      "The multiplication of all items is: 3091200\n"
     ]
    }
   ],
   "source": [
    "multi= 1\n",
    "for i in data.values():\n",
    "   multi = multi*i\n",
    "print(\"The multiplication of all items is:\", multi)"
   ]
  },
  {
   "cell_type": "markdown",
   "metadata": {},
   "source": [
    "# Task 7"
   ]
  },
  {
   "cell_type": "code",
   "execution_count": 146,
   "metadata": {},
   "outputs": [
    {
     "name": "stdout",
     "output_type": "stream",
     "text": [
      "{'A': 23, 'C': 25, 'D': 14, 'B': 32, 'E': 12}\n",
      "Enter the key to be delete (A-E) :C\n",
      "{'A': 23, 'D': 14, 'B': 32, 'E': 12}\n"
     ]
    }
   ],
   "source": [
    "print (data)\n",
    "key = input(\"Enter the key to be delete (A-E) :\")\n",
    "if key in data.keys():\n",
    "    data.pop(key)\n",
    "    data.update()\n",
    "    #print(data)\n",
    "else :\n",
    "    #print (data)\n",
    "    print (\"Key not found!\")\n",
    "print (data)    "
   ]
  },
  {
   "cell_type": "code",
   "execution_count": 148,
   "metadata": {},
   "outputs": [
    {
     "name": "stdout",
     "output_type": "stream",
     "text": [
      "{'A': 23, 'C': 25, 'D': 14, 'B': 32, 'E': 12}\n",
      "Enter the key to be delete (A-E) :F\n",
      "Key not found!\n",
      "{'A': 23, 'C': 25, 'D': 14, 'B': 32, 'E': 12}\n"
     ]
    }
   ],
   "source": [
    "print (data)\n",
    "key = input(\"Enter the key to be delete (A-E) :\")\n",
    "if key in data.keys():\n",
    "    data.pop(key)\n",
    "    data.update()\n",
    "    #print(data)\n",
    "else :\n",
    "    #print (data)\n",
    "    print (\"Key not found!\")\n",
    "print (data)    "
   ]
  },
  {
   "cell_type": "markdown",
   "metadata": {},
   "source": [
    "# Task 8"
   ]
  },
  {
   "cell_type": "code",
   "execution_count": 174,
   "metadata": {},
   "outputs": [
    {
     "name": "stdout",
     "output_type": "stream",
     "text": [
      "Enter number of elements for dictionary: 3\n",
      "For keys:\n",
      "Enter element:1\n",
      "For keys:\n",
      "Enter element:2\n",
      "For keys:\n",
      "Enter element:3\n",
      "For values:\n",
      "Enter element:1\n",
      "For values:\n",
      "Enter element:4\n",
      "For values:\n",
      "Enter element:9\n",
      "The Dictionary is:\n",
      " {1: 1, 2: 4, 3: 9}\n"
     ]
    }
   ],
   "source": [
    "lst1=[]\n",
    "lst2=[]\n",
    "ele=0\n",
    "valu=0\n",
    "n = int(input(\"Enter number of elements for dictionary: \"))\n",
    "\n",
    "for i in range (0, n):  \n",
    " print(\"For keys:\")\n",
    " ele=int(input(\"Enter element:\"))\n",
    " lst1.append(ele) \n",
    "for j in range (0, n):\n",
    " print (\"For values:\")\n",
    " valu = int(input(\"Enter element:\"))\n",
    " lst2.append(valu)\n",
    "test_dict = {}\n",
    "test_dict = dict(zip(lst1, lst2))\n",
    "print (\"The Dictionary is:\\n\", test_dict)"
   ]
  },
  {
   "cell_type": "code",
   "execution_count": 172,
   "metadata": {},
   "outputs": [
    {
     "name": "stdout",
     "output_type": "stream",
     "text": [
      "Enter number of elements for dictionary: 2\n",
      "For keys:\n",
      "Enter element:23\n",
      "For keys:\n",
      "Enter element:46\n",
      "For values:\n",
      "Enter element:69\n",
      "For values:\n",
      "Enter element:138\n",
      "The Dictionary is:\n",
      " {23: 69, 46: 138}\n"
     ]
    }
   ],
   "source": [
    "lst1=[]\n",
    "lst2=[]\n",
    "ele=0\n",
    "valu=0\n",
    "n = int(input(\"Enter number of elements for dictionary: \"))\n",
    "\n",
    "for i in range (0, n):  \n",
    " print(\"For keys:\")\n",
    " ele=int(input(\"Enter element:\"))\n",
    " lst1.append(ele) \n",
    "for j in range (0, n):\n",
    " print (\"For values:\")\n",
    " valu = int(input(\"Enter element:\"))\n",
    " lst2.append(valu)\n",
    "test_dict = {}\n",
    "test_dict = dict(zip(lst1, lst2))\n",
    "print (\"The Dictionary is:\\n\", test_dict)"
   ]
  },
  {
   "cell_type": "code",
   "execution_count": null,
   "metadata": {},
   "outputs": [],
   "source": []
  }
 ],
 "metadata": {
  "kernelspec": {
   "display_name": "Python 3",
   "language": "python",
   "name": "python3"
  },
  "language_info": {
   "codemirror_mode": {
    "name": "ipython",
    "version": 3
   },
   "file_extension": ".py",
   "mimetype": "text/x-python",
   "name": "python",
   "nbconvert_exporter": "python",
   "pygments_lexer": "ipython3",
   "version": "3.7.3"
  }
 },
 "nbformat": 4,
 "nbformat_minor": 2
}

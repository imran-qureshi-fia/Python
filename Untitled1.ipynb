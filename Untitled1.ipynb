{
 "cells": [
  {
   "cell_type": "code",
   "execution_count": 10,
   "metadata": {},
   "outputs": [
    {
     "name": "stdout",
     "output_type": "stream",
     "text": [
      " \n",
      "    \n",
      "    \n",
      "    name = \"Imran\"\n",
      "PIAIC Islam\n",
      "card\n",
      "enter this\n",
      "\n"
     ]
    }
   ],
   "source": [
    "print(''' \n",
    "    \n",
    "    \n",
    "    name = \"Imran\"\n",
    "PIAIC Islam\n",
    "card\n",
    "enter this\n",
    "''')\n"
   ]
  },
  {
   "cell_type": "code",
   "execution_count": 12,
   "metadata": {},
   "outputs": [
    {
     "name": "stdout",
     "output_type": "stream",
     "text": [
      "\n",
      "   name = \"Imran\"\n",
      "PIAIC Islam\n",
      "card\n",
      "enter this\n"
     ]
    }
   ],
   "source": [
    "id_card = '''\n",
    "   name = \"Strn\"\n",
    "PIAIC Islam\n",
    "card\n",
    "enter this'''\n",
    "print(id_card)"
   ]
  },
  {
   "cell_type": "code",
   "execution_count": 13,
   "metadata": {},
   "outputs": [
    {
     "name": "stdout",
     "output_type": "stream",
     "text": [
      "Imran\n"
     ]
    }
   ],
   "source": [
    "Name = \"Imran\"\n",
    "Fname = \"Zahoor Ellahi\"\n",
    "Batch = \"3\"\n",
    "University = \"Bahria University\"\n",
    "print (Name)"
   ]
  },
  {
   "cell_type": "code",
   "execution_count": 14,
   "metadata": {},
   "outputs": [
    {
     "name": "stdout",
     "output_type": "stream",
     "text": [
      "Imran\n",
      "Zahoor Ellahi\n"
     ]
    },
    {
     "ename": "NameError",
     "evalue": "name 'Print' is not defined",
     "output_type": "error",
     "traceback": [
      "\u001b[1;31m---------------------------------------------------------------------------\u001b[0m",
      "\u001b[1;31mNameError\u001b[0m                                 Traceback (most recent call last)",
      "\u001b[1;32m<ipython-input-14-6c39e3121929>\u001b[0m in \u001b[0;36m<module>\u001b[1;34m\u001b[0m\n\u001b[0;32m      5\u001b[0m \u001b[0mprint\u001b[0m \u001b[1;33m(\u001b[0m\u001b[0mName\u001b[0m\u001b[1;33m)\u001b[0m\u001b[1;33m\u001b[0m\u001b[1;33m\u001b[0m\u001b[0m\n\u001b[0;32m      6\u001b[0m \u001b[0mprint\u001b[0m \u001b[1;33m(\u001b[0m\u001b[0mFname\u001b[0m\u001b[1;33m)\u001b[0m\u001b[1;33m\u001b[0m\u001b[1;33m\u001b[0m\u001b[0m\n\u001b[1;32m----> 7\u001b[1;33m \u001b[0mPrint\u001b[0m \u001b[1;33m(\u001b[0m\u001b[0mBatch\u001b[0m\u001b[1;33m)\u001b[0m\u001b[1;33m\u001b[0m\u001b[1;33m\u001b[0m\u001b[0m\n\u001b[0m\u001b[0;32m      8\u001b[0m \u001b[0mPrint\u001b[0m \u001b[1;33m(\u001b[0m\u001b[0mUniversity\u001b[0m\u001b[1;33m)\u001b[0m\u001b[1;33m\u001b[0m\u001b[1;33m\u001b[0m\u001b[0m\n",
      "\u001b[1;31mNameError\u001b[0m: name 'Print' is not defined"
     ]
    }
   ],
   "source": [
    "Name = \"Imran\"\n",
    "Fname = \"Zahoor Ellahi\"\n",
    "Batch = \"3\"\n",
    "University = \"Bahria University\"\n",
    "print (Name)\n",
    "print (Fname)\n",
    "Print (Batch)\n",
    "Print (University)"
   ]
  },
  {
   "cell_type": "code",
   "execution_count": 15,
   "metadata": {},
   "outputs": [
    {
     "name": "stdout",
     "output_type": "stream",
     "text": [
      "Imran\n",
      "Zahoor Ellahi\n",
      "3\n",
      "Bahria University\n"
     ]
    }
   ],
   "source": [
    "Name = \"Imran\"\n",
    "Fname = \"Zahoor Ellahi\"\n",
    "Batch = \"3\"\n",
    "University = \"Bahria University\"\n",
    "print (Name)\n",
    "print (Fname)\n",
    "print (Batch)\n",
    "print (University)"
   ]
  },
  {
   "cell_type": "code",
   "execution_count": 16,
   "metadata": {},
   "outputs": [
    {
     "ename": "SyntaxError",
     "evalue": "EOL while scanning string literal (<ipython-input-16-eea3fc91e953>, line 6)",
     "output_type": "error",
     "traceback": [
      "\u001b[1;36m  File \u001b[1;32m\"<ipython-input-16-eea3fc91e953>\"\u001b[1;36m, line \u001b[1;32m6\u001b[0m\n\u001b[1;33m    ''''\u001b[0m\n\u001b[1;37m        \n^\u001b[0m\n\u001b[1;31mSyntaxError\u001b[0m\u001b[1;31m:\u001b[0m EOL while scanning string literal\n"
     ]
    }
   ],
   "source": [
    "data = '''\n",
    "Name = \"Imran\"\n",
    "Fname = \"Zahoor Ellahi\"\n",
    "Batch = \"3\"\n",
    "University = \"Bahria University\"\n",
    "''''\n",
    "print (data)"
   ]
  },
  {
   "cell_type": "code",
   "execution_count": 17,
   "metadata": {},
   "outputs": [
    {
     "name": "stdout",
     "output_type": "stream",
     "text": [
      "\n",
      "Name = \"Imran\"\n",
      "Fname = \"Zahoor Ellahi\"\n",
      "Batch = \"3\"\n",
      "University = \"Bahria University\"\n",
      "\n"
     ]
    }
   ],
   "source": [
    "data = '''\n",
    "Name = \"Imran\"\n",
    "Fname = \"Zahoor Ellahi\"\n",
    "Batch = \"3\"\n",
    "University = \"Bahria University\"\n",
    "'''\n",
    "print (data)"
   ]
  },
  {
   "cell_type": "code",
   "execution_count": 22,
   "metadata": {},
   "outputs": [
    {
     "name": "stdout",
     "output_type": "stream",
     "text": [
      "10.0\n"
     ]
    }
   ],
   "source": [
    "weight = 25\n",
    "multiplier = 2.5\n",
    "new_weight=  (weight / multiplier)\n",
    "print (new_weight)"
   ]
  },
  {
   "cell_type": "code",
   "execution_count": null,
   "metadata": {},
   "outputs": [],
   "source": [
    "type this"
   ]
  },
  {
   "cell_type": "code",
   "execution_count": null,
   "metadata": {},
   "outputs": [],
   "source": [
    "type this"
   ]
  },
  {
   "cell_type": "code",
   "execution_count": null,
   "metadata": {},
   "outputs": [],
   "source": []
  }
 ],
 "metadata": {
  "kernelspec": {
   "display_name": "Python 3",
   "language": "python",
   "name": "python3"
  },
  "language_info": {
   "codemirror_mode": {
    "name": "ipython",
    "version": 3
   },
   "file_extension": ".py",
   "mimetype": "text/x-python",
   "name": "python",
   "nbconvert_exporter": "python",
   "pygments_lexer": "ipython3",
   "version": "3.7.3"
  }
 },
 "nbformat": 4,
 "nbformat_minor": 2
}
